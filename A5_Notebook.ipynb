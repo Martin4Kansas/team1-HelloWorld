{
 "cells": [
  {
   "cell_type": "code",
   "execution_count": 41,
   "metadata": {},
   "outputs": [],
   "source": [
    "import pandas as pd # import pandas\n",
    "# read in the data\n",
    "df = pd.read_csv('all_dates.csv')[['Date','Minimum Temperature','Mean Temperature', 'Maximum Temperature']]\n",
    "# create list of months\n",
    "months = ['January','February','March','April','May','June',\n",
    "          'July','August','September','October','November','December']"
   ]
  },
  {
   "cell_type": "code",
   "execution_count": 42,
   "metadata": {},
   "outputs": [],
   "source": [
    "# function to return the year, month and day separately\n",
    "def get_year_month_and_day(date):\n",
    "    tokens = date.split('-')\n",
    "    return tokens[0], tokens[1], tokens[2]"
   ]
  },
  {
   "cell_type": "code",
   "execution_count": 43,
   "metadata": {},
   "outputs": [],
   "source": [
    "df['Year'], df['Month'], df['Day'] = zip(*df['Date'].map(get_year_month_and_day)) # split date in year, month and day\n",
    "df = df.drop(columns = ['Date']) # drop date column\n",
    "# convert all columns to numeric\n",
    "cols = df.columns\n",
    "df[cols] = df[cols].apply(pd.to_numeric, errors='coerce')"
   ]
  },
  {
   "cell_type": "code",
   "execution_count": 49,
   "metadata": {},
   "outputs": [
    {
     "name": "stdout",
     "output_type": "stream",
     "text": [
      "[2020]\n"
     ]
    }
   ],
   "source": [
    "# get range of years\n",
    "min_year = df['Year'].min()\n",
    "max_year = df['Year'].max()\n",
    "year_range = list(range(min_year,max_year+1))"
   ]
  },
  {
   "cell_type": "code",
   "execution_count": 58,
   "metadata": {},
   "outputs": [
    {
     "name": "stdout",
     "output_type": "stream",
     "text": [
      "for the year 2020:\n",
      "the month with the lowest low temperature was: February\n",
      "the month with the lowest mean temperature was: January\n",
      "the month with the lowest max temperature was: January\n",
      "\n"
     ]
    }
   ],
   "source": [
    "# initialize final dataframe\n",
    "summary_df = pd.DataFrame(columns=['Year','Lowest Min','Month with Lowest Min',\n",
    "                                  'Lowest Mean','Month with Lowest Mean',\n",
    "                                  'Lowest Max','Month with Lowest Max'])\n",
    "final_df = pd.DataFrame(columns=['Year','Month','Minimum Temperature','Mean Temperature','Maximum Temperature'])\n",
    "# for year in year range\n",
    "for year in year_range:\n",
    "    yearly_df = df[df['Year'] == year] # get dataframe for this year only\n",
    "    # for each month\n",
    "    for month in range(1,13):\n",
    "        monthly_df = yearly_df[yearly_df['Month'] == month] # get dataframe for this month only\n",
    "        min_temp = monthly_df['Minimum Temperature'].min() # calculate the minimum temp in the month\n",
    "        mean_temp = monthly_df['Mean Temperature'].mean() # calculate the mean temp in the month\n",
    "        max_temp = monthly_df['Maximum Temperature'].max() # calculate the maximum temp in the month\n",
    "        # add data to final dataframe\n",
    "        final_df.loc[len(final_df.index)] = [year, month, min_temp, mean_temp, max_temp]\n",
    "    yearly_df2 = final_df[final_df['Year'] == year] # get dataframe for this year only\n",
    "    # calculate the lowest min, mean and max and the months they occured\n",
    "    min_monthly_min_idx = yearly_df2['Minimum Temperature'].idxmin()\n",
    "    month_with_lowest_min = months[int(yearly_df2['Month'][min_monthly_min_idx]) - 1]\n",
    "    lowest_min = yearly_df2['Minimum Temperature'][min_monthly_min_idx]\n",
    "    min_monthly_mean_idx = yearly_df2['Mean Temperature'].idxmin()\n",
    "    month_with_lowest_mean = months[int(yearly_df2['Month'][min_monthly_mean_idx]) - 1]\n",
    "    lowest_mean = yearly_df2['Mean Temperature'][min_monthly_mean_idx]\n",
    "    min_monthly_max_idx = yearly_df2['Maximum Temperature'].idxmin()\n",
    "    month_with_lowest_max = months[int(yearly_df2['Month'][min_monthly_max_idx]) - 1]\n",
    "    lowest_max = yearly_df2['Maximum Temperature'][min_monthly_max_idx]\n",
    "    # add data to summary dataframe\n",
    "    summary_df.loc[len(summary_df.index)] = [year,lowest_min,month_with_lowest_min,lowest_mean,\n",
    "                                             month_with_lowest_mean,lowest_max,month_with_lowest_max]\n",
    "    # print results\n",
    "    print('for the year ' + str(year) + ':')\n",
    "    print('the month with the lowest low temperature was: ' + month_with_lowest_min)\n",
    "    print('the month with the lowest mean temperature was: ' + month_with_lowest_mean)\n",
    "    print('the month with the lowest max temperature was: ' + month_with_lowest_max)\n",
    "    print('')"
   ]
  },
  {
   "cell_type": "code",
   "execution_count": 59,
   "metadata": {},
   "outputs": [],
   "source": [
    "# output results\n",
    "final_df.to_csv('monthly.csv', index=False)\n",
    "summary_df.to_csv('summary.csv', index=False)"
   ]
  },
  {
   "cell_type": "code",
   "execution_count": null,
   "metadata": {},
   "outputs": [],
   "source": []
  }
 ],
 "metadata": {
  "kernelspec": {
   "display_name": "Python 3",
   "language": "python",
   "name": "python3"
  },
  "language_info": {
   "codemirror_mode": {
    "name": "ipython",
    "version": 3
   },
   "file_extension": ".py",
   "mimetype": "text/x-python",
   "name": "python",
   "nbconvert_exporter": "python",
   "pygments_lexer": "ipython3",
   "version": "3.7.4"
  }
 },
 "nbformat": 4,
 "nbformat_minor": 2
}
